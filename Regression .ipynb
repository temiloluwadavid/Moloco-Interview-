{
 "cells": [
  {
   "cell_type": "markdown",
   "metadata": {},
   "source": [
    "## Regression"
   ]
  },
  {
   "cell_type": "markdown",
   "metadata": {},
   "source": [
    "Import the libraries "
   ]
  },
  {
   "cell_type": "code",
   "execution_count": 1,
   "metadata": {},
   "outputs": [],
   "source": [
    "import numpy as np\n",
    "import matplotlib.pyplot as plt\n",
    "import pandas as pd\n",
    "from mpl_toolkits.mplot3d import Axes3D\n",
    "from statsmodels.formula.api import ols\n",
    "from statsmodels.stats.anova import anova_lm"
   ]
  },
  {
   "cell_type": "markdown",
   "metadata": {},
   "source": [
    "Load the data "
   ]
  },
  {
   "cell_type": "code",
   "execution_count": 2,
   "metadata": {},
   "outputs": [],
   "source": [
    "df = pd.read_csv('Regression.csv', header=None)"
   ]
  },
  {
   "cell_type": "code",
   "execution_count": 3,
   "metadata": {},
   "outputs": [
    {
     "data": {
      "text/html": [
       "<div>\n",
       "<style scoped>\n",
       "    .dataframe tbody tr th:only-of-type {\n",
       "        vertical-align: middle;\n",
       "    }\n",
       "\n",
       "    .dataframe tbody tr th {\n",
       "        vertical-align: top;\n",
       "    }\n",
       "\n",
       "    .dataframe thead th {\n",
       "        text-align: right;\n",
       "    }\n",
       "</style>\n",
       "<table border=\"1\" class=\"dataframe\">\n",
       "  <thead>\n",
       "    <tr style=\"text-align: right;\">\n",
       "      <th></th>\n",
       "      <th>0</th>\n",
       "      <th>1</th>\n",
       "      <th>2</th>\n",
       "    </tr>\n",
       "  </thead>\n",
       "  <tbody>\n",
       "    <tr>\n",
       "      <td>0</td>\n",
       "      <td>0.490</td>\n",
       "      <td>-0.180</td>\n",
       "      <td>11.50</td>\n",
       "    </tr>\n",
       "    <tr>\n",
       "      <td>1</td>\n",
       "      <td>-1.410</td>\n",
       "      <td>-1.230</td>\n",
       "      <td>11.80</td>\n",
       "    </tr>\n",
       "    <tr>\n",
       "      <td>2</td>\n",
       "      <td>0.943</td>\n",
       "      <td>4.510</td>\n",
       "      <td>-3.24</td>\n",
       "    </tr>\n",
       "    <tr>\n",
       "      <td>3</td>\n",
       "      <td>3.570</td>\n",
       "      <td>5.070</td>\n",
       "      <td>-23.90</td>\n",
       "    </tr>\n",
       "    <tr>\n",
       "      <td>4</td>\n",
       "      <td>-1.700</td>\n",
       "      <td>6.910</td>\n",
       "      <td>-22.10</td>\n",
       "    </tr>\n",
       "    <tr>\n",
       "      <td>...</td>\n",
       "      <td>...</td>\n",
       "      <td>...</td>\n",
       "      <td>...</td>\n",
       "    </tr>\n",
       "    <tr>\n",
       "      <td>295</td>\n",
       "      <td>6.920</td>\n",
       "      <td>-0.421</td>\n",
       "      <td>33.20</td>\n",
       "    </tr>\n",
       "    <tr>\n",
       "      <td>296</td>\n",
       "      <td>11.700</td>\n",
       "      <td>-1.290</td>\n",
       "      <td>108.00</td>\n",
       "    </tr>\n",
       "    <tr>\n",
       "      <td>297</td>\n",
       "      <td>9.920</td>\n",
       "      <td>3.690</td>\n",
       "      <td>-126.00</td>\n",
       "    </tr>\n",
       "    <tr>\n",
       "      <td>298</td>\n",
       "      <td>11.400</td>\n",
       "      <td>6.290</td>\n",
       "      <td>-315.00</td>\n",
       "    </tr>\n",
       "    <tr>\n",
       "      <td>299</td>\n",
       "      <td>10.900</td>\n",
       "      <td>2.570</td>\n",
       "      <td>-97.70</td>\n",
       "    </tr>\n",
       "  </tbody>\n",
       "</table>\n",
       "<p>300 rows × 3 columns</p>\n",
       "</div>"
      ],
      "text/plain": [
       "          0      1       2\n",
       "0     0.490 -0.180   11.50\n",
       "1    -1.410 -1.230   11.80\n",
       "2     0.943  4.510   -3.24\n",
       "3     3.570  5.070  -23.90\n",
       "4    -1.700  6.910  -22.10\n",
       "..      ...    ...     ...\n",
       "295   6.920 -0.421   33.20\n",
       "296  11.700 -1.290  108.00\n",
       "297   9.920  3.690 -126.00\n",
       "298  11.400  6.290 -315.00\n",
       "299  10.900  2.570  -97.70\n",
       "\n",
       "[300 rows x 3 columns]"
      ]
     },
     "execution_count": 3,
     "metadata": {},
     "output_type": "execute_result"
    }
   ],
   "source": [
    "df"
   ]
  },
  {
   "cell_type": "markdown",
   "metadata": {},
   "source": [
    "Assigned headers to the dataframe "
   ]
  },
  {
   "cell_type": "code",
   "execution_count": 4,
   "metadata": {},
   "outputs": [],
   "source": [
    "df['A']=df[0]\n",
    "df['B']=df[1]\n",
    "df['C']=df[2]\n",
    "df=df[['A','B','C']]"
   ]
  },
  {
   "cell_type": "code",
   "execution_count": 5,
   "metadata": {},
   "outputs": [
    {
     "data": {
      "text/html": [
       "<div>\n",
       "<style scoped>\n",
       "    .dataframe tbody tr th:only-of-type {\n",
       "        vertical-align: middle;\n",
       "    }\n",
       "\n",
       "    .dataframe tbody tr th {\n",
       "        vertical-align: top;\n",
       "    }\n",
       "\n",
       "    .dataframe thead th {\n",
       "        text-align: right;\n",
       "    }\n",
       "</style>\n",
       "<table border=\"1\" class=\"dataframe\">\n",
       "  <thead>\n",
       "    <tr style=\"text-align: right;\">\n",
       "      <th></th>\n",
       "      <th>A</th>\n",
       "      <th>B</th>\n",
       "      <th>C</th>\n",
       "    </tr>\n",
       "  </thead>\n",
       "  <tbody>\n",
       "    <tr>\n",
       "      <td>0</td>\n",
       "      <td>0.490</td>\n",
       "      <td>-0.180</td>\n",
       "      <td>11.50</td>\n",
       "    </tr>\n",
       "    <tr>\n",
       "      <td>1</td>\n",
       "      <td>-1.410</td>\n",
       "      <td>-1.230</td>\n",
       "      <td>11.80</td>\n",
       "    </tr>\n",
       "    <tr>\n",
       "      <td>2</td>\n",
       "      <td>0.943</td>\n",
       "      <td>4.510</td>\n",
       "      <td>-3.24</td>\n",
       "    </tr>\n",
       "    <tr>\n",
       "      <td>3</td>\n",
       "      <td>3.570</td>\n",
       "      <td>5.070</td>\n",
       "      <td>-23.90</td>\n",
       "    </tr>\n",
       "    <tr>\n",
       "      <td>4</td>\n",
       "      <td>-1.700</td>\n",
       "      <td>6.910</td>\n",
       "      <td>-22.10</td>\n",
       "    </tr>\n",
       "    <tr>\n",
       "      <td>...</td>\n",
       "      <td>...</td>\n",
       "      <td>...</td>\n",
       "      <td>...</td>\n",
       "    </tr>\n",
       "    <tr>\n",
       "      <td>295</td>\n",
       "      <td>6.920</td>\n",
       "      <td>-0.421</td>\n",
       "      <td>33.20</td>\n",
       "    </tr>\n",
       "    <tr>\n",
       "      <td>296</td>\n",
       "      <td>11.700</td>\n",
       "      <td>-1.290</td>\n",
       "      <td>108.00</td>\n",
       "    </tr>\n",
       "    <tr>\n",
       "      <td>297</td>\n",
       "      <td>9.920</td>\n",
       "      <td>3.690</td>\n",
       "      <td>-126.00</td>\n",
       "    </tr>\n",
       "    <tr>\n",
       "      <td>298</td>\n",
       "      <td>11.400</td>\n",
       "      <td>6.290</td>\n",
       "      <td>-315.00</td>\n",
       "    </tr>\n",
       "    <tr>\n",
       "      <td>299</td>\n",
       "      <td>10.900</td>\n",
       "      <td>2.570</td>\n",
       "      <td>-97.70</td>\n",
       "    </tr>\n",
       "  </tbody>\n",
       "</table>\n",
       "<p>300 rows × 3 columns</p>\n",
       "</div>"
      ],
      "text/plain": [
       "          A      B       C\n",
       "0     0.490 -0.180   11.50\n",
       "1    -1.410 -1.230   11.80\n",
       "2     0.943  4.510   -3.24\n",
       "3     3.570  5.070  -23.90\n",
       "4    -1.700  6.910  -22.10\n",
       "..      ...    ...     ...\n",
       "295   6.920 -0.421   33.20\n",
       "296  11.700 -1.290  108.00\n",
       "297   9.920  3.690 -126.00\n",
       "298  11.400  6.290 -315.00\n",
       "299  10.900  2.570  -97.70\n",
       "\n",
       "[300 rows x 3 columns]"
      ]
     },
     "execution_count": 5,
     "metadata": {},
     "output_type": "execute_result"
    }
   ],
   "source": [
    "df"
   ]
  },
  {
   "cell_type": "markdown",
   "metadata": {},
   "source": [
    "Built a regression model using from the statsmodel formula \n",
    "The model was fitted using the relationship between A and B as seen below \n",
    "The summary of the ols regression results was then printed and the performace of the linear model was done using anova_lm "
   ]
  },
  {
   "cell_type": "code",
   "execution_count": 6,
   "metadata": {},
   "outputs": [
    {
     "name": "stdout",
     "output_type": "stream",
     "text": [
      "                            OLS Regression Results                            \n",
      "==============================================================================\n",
      "Dep. Variable:                      z   R-squared:                       0.006\n",
      "Model:                            OLS   Adj. R-squared:                 -0.001\n",
      "Method:                 Least Squares   F-statistic:                    0.9044\n",
      "Date:                Mon, 11 May 2020   Prob (F-statistic):              0.406\n",
      "Time:                        17:27:56   Log-Likelihood:                -2333.8\n",
      "No. Observations:                 300   AIC:                             4674.\n",
      "Df Residuals:                     297   BIC:                             4685.\n",
      "Df Model:                           2                                         \n",
      "Covariance Type:            nonrobust                                         \n",
      "==============================================================================\n",
      "                 coef    std err          t      P>|t|      [0.025      0.975]\n",
      "------------------------------------------------------------------------------\n",
      "Intercept    -19.2938     44.427     -0.434      0.664    -106.725      68.137\n",
      "x             -8.0672      6.016     -1.341      0.181     -19.907       3.773\n",
      "y             -1.7780     11.427     -0.156      0.876     -24.266      20.710\n",
      "==============================================================================\n",
      "Omnibus:                      682.861   Durbin-Watson:                   2.021\n",
      "Prob(Omnibus):                  0.000   Jarque-Bera (JB):          1016667.029\n",
      "Skew:                         -16.714   Prob(JB):                         0.00\n",
      "Kurtosis:                     286.224   Cond. No.                         8.26\n",
      "==============================================================================\n",
      "\n",
      "Warnings:\n",
      "[1] Standard Errors assume that the covariance matrix of the errors is correctly specified.\n",
      "\n",
      "Retrieving manually the parameter estimates:\n",
      "[-19.2937528   -8.0672204   -1.77801157]\n"
     ]
    }
   ],
   "source": [
    "data = pd.DataFrame({'x': df['A'], 'y': df['B'], 'z': df['C']})\n",
    "\n",
    "# Fit the model\n",
    "model = ols(\"z ~ x + y\", data).fit()\n",
    "\n",
    "# Print the summary\n",
    "print(model.summary())\n",
    "\n",
    "print(\"\\nRetrieving manually the parameter estimates:\")\n",
    "print(model._results.params)\n",
    "# should be array([-4.99754526,  3.00250049, -0.50514907])\n",
    "\n",
    "# Peform analysis of variance on fitted linear model\n",
    "anova_results = anova_lm(model)\n"
   ]
  },
  {
   "cell_type": "markdown",
   "metadata": {},
   "source": [
    "The model was plotted using the standard matplotlib library"
   ]
  },
  {
   "cell_type": "code",
   "execution_count": 7,
   "metadata": {},
   "outputs": [
    {
     "data": {
      "image/png": "[encoded data removed]",
      "text/plain": [
       "<Figure size 432x288 with 1 Axes>"
      ]
     },
     "metadata": {
      "needs_background": "light"
     },
     "output_type": "display_data"
    }
   ],
   "source": [
    "x_surf, y_surf = np.meshgrid(np.linspace(df.A.min(), df.A.max(), 100),np.linspace(df.B.min(), df.B.max(), 100))\n",
    "onlyX = pd.DataFrame({'A': x_surf.ravel(), 'B': y_surf.ravel()})\n",
    "\n",
    "# Visualize the Data for Multiple Linear Regression\n",
    "\n",
    "fig = plt.figure()\n",
    "ax = fig.add_subplot(111, projection='3d')\n",
    "ax.scatter(df['A'],df['B'],df['C'],c='blue', marker='+', alpha=0.5)\n",
    "ax.set_xlabel('A')\n",
    "ax.set_ylabel('B')\n",
    "ax.set_zlabel('C')\n",
    "plt.show()"
   ]
  }
 ],
 "metadata": {
  "kernelspec": {
   "display_name": "Python 3",
   "language": "python",
   "name": "python3"
  },
  "language_info": {
   "codemirror_mode": {
    "name": "ipython",
    "version": 3
   },
   "file_extension": ".py",
   "mimetype": "text/x-python",
   "name": "python",
   "nbconvert_exporter": "python",
   "pygments_lexer": "ipython3",
   "version": "3.7.4"
  }
 },
 "nbformat": 4,
 "nbformat_minor": 2
}
